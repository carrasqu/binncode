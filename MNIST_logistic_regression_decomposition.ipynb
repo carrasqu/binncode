{
 "cells": [
  {
   "cell_type": "code",
   "execution_count": 35,
   "id": "a9671091",
   "metadata": {},
   "outputs": [],
   "source": [
    "import numpy as np\n",
    "import cirq\n",
    "from typing import Dict, Tuple\n",
    "import matplotlib.pyplot as plt\n",
    "from scipy.stats import logistic\n",
    "import itertools as it\n",
    "import pennylane as qml\n",
    "from pennylane.optimize import AdamOptimizer\n",
    "from ncon import ncon\n",
    "\n",
    "    \n",
    "from typing import List, Tuple, Any\n",
    "import sympy\n",
    "import tensorflow as tf\n",
    "import tensorflow_quantum as tfq"
   ]
  },
  {
   "cell_type": "code",
   "execution_count": 36,
   "id": "7c02daf2",
   "metadata": {},
   "outputs": [
    {
     "data": {
      "image/png": "[encoded data removed]",
      "text/plain": [
       "<Figure size 432x288 with 2 Axes>"
      ]
     },
     "metadata": {
      "needs_background": "light"
     },
     "output_type": "display_data"
    },
    {
     "name": "stdout",
     "output_type": "stream",
     "text": [
      "(12665, 4, 4, 1)\n",
      "(12665, 16)\n",
      "number of parameters  17\n",
      "[0.57572082 0.84510275 0.52600219 0.77671848 1.02488174 0.66718932\n",
      " 0.83360282 1.04229849 0.68175902 1.02155254]\n"
     ]
    }
   ],
   "source": [
    "# Binary neural network and dataset generation \n",
    "\n",
    "def sig(xx):\n",
    "    return 1 / (1 +  np.exp(-xx))\n",
    "def nonlinear(spin,xx):\n",
    "    return np.where(np.reshape(spin,(1,-1,1))==1,sig(xx),np.maximum(xx,0))\n",
    "    \n",
    "def costfunction(samples,d_out,x,y):\n",
    "    samplesi = np.copy(samples)\n",
    "    samplesi = 2*samplesi-1\n",
    "    d_in = x.shape[1]\n",
    "    Ntrain = x.shape[0]\n",
    "    \n",
    "    c = d_in*d_out\n",
    "    Ns = samples.shape[0]\n",
    "    W1 = np.reshape(samplesi[:,0:c],[Ns,d_in,d_out])\n",
    "    b_1 = np.reshape(samplesi[:,c:c+d_out],[Ns,d_out])\n",
    "\n",
    "    # binary \n",
    "\n",
    "    p = sig(np.einsum('ij,kjl ->ikl',x,W1) + b_1) \n",
    "    Jw = -np.einsum('i,iwk ->wk', y,np.log(p))/Ntrain - np.einsum('i,iwk ->wk', 1-y,np.log(1-p))/Ntrain\n",
    "    Jw = np.reshape(Jw,(-1))\n",
    "\n",
    "    # multiclass\n",
    "    #out = np.log(softmax(np.einsum('ij,kjl ->ikl',x,W1) + b_1, axis = 2))\n",
    "    #Jw =  -np.einsum('ik,iwk ->w',y,out)/Ntrain\n",
    "\n",
    "\n",
    "    #print(local_energies.shape)\n",
    "    return  Jw\n",
    "\n",
    "    \n",
    "\n",
    "# ************* Data set MNIST *****************\n",
    "\n",
    "(x_train, y_train), (x_test, y_test) = tf.keras.datasets.mnist.load_data()\n",
    "x_train, x_test = x_train[..., np.newaxis]/255.0, x_test[..., np.newaxis]/255.0\n",
    "\n",
    "\n",
    "def filter_36(x, y):\n",
    "#     keep = (y == 3) | (y == 6)\n",
    "#     x, y = x[keep], y[keep]\n",
    "#     y = y == 3\n",
    "#     keep = (y == 0) | (y == 4)\n",
    "#     x, y = x[keep], y[keep]\n",
    "#     y = y == 0\n",
    "    keep = (y == 0) | (y == 1)\n",
    "    x, y = x[keep], y[keep]\n",
    "    y = y == 1\n",
    "    return x,y\n",
    "\n",
    "x_train, y_train = filter_36(x_train, y_train)\n",
    "x_test, y_test = filter_36(x_test, y_test)\n",
    "\n",
    "y_train = y_train.astype(int)\n",
    "y_test = y_test.astype(int)\n",
    "\n",
    "\n",
    "\n",
    "lx = 4\n",
    "x_train_small = tf.image.resize(x_train, (lx,lx)) #.numpy()\n",
    "x_test_small = tf.image.resize(x_test, (lx,lx)) #.numpy()\n",
    "\n",
    "\n",
    "\n",
    "# x_train_small = tf.Session().run(x_train_small)\n",
    "# x_test_small = tf.Session().run(x_test_small)\n",
    "\n",
    "plt.imshow(x_train_small[10,:,:,0], vmin=0, vmax=1)\n",
    "plt.colorbar()\n",
    "plt.show()\n",
    "\n",
    "print(x_train_small.shape)\n",
    "x_train_small= np.reshape(x_train_small,(-1,lx*lx))\n",
    "print(x_train_small.shape)\n",
    "x_test_small= np.reshape(x_test_small,(-1,lx*lx))\n",
    "\n",
    "\n",
    "\n",
    "\n",
    "# # converting labels to one hot vector\n",
    "y_train_one_hot = np.zeros((y_train.size, y_train.max()+1))\n",
    "y_train_one_hot[np.arange(y_train.size),y_train] = 1\n",
    "\n",
    "\n",
    "y_test_one_hot = np.zeros((y_test.size, y_test.max()+1))\n",
    "y_test_one_hot[np.arange(y_test.size),y_test] = 1\n",
    "\n",
    "\n",
    "\n",
    "\n",
    "#****** Defining the logistic classifier  **************\n",
    "\n",
    "\n",
    "d_out = 1 # dimension of output (10 for MNIST )\n",
    "d_in = lx*lx  # Dimension of input \n",
    "\n",
    "#             W1          W2           b_2    b_1    Which nonlinear function \n",
    "#Nparameters = Nhid*d_in + Nhid*d_out + d_out+ Nhid + 1 \n",
    "\n",
    "#logistic regression W1            b_1  \n",
    "Nparameters =        d_out*d_in +  d_out\n",
    "\n",
    "print(\"number of parameters \",Nparameters)\n",
    "\n",
    "\n",
    "# Test function \n",
    "\n",
    "s = np.random.binomial(1, 0.5, (10,Nparameters))\n",
    "\n",
    "cost = costfunction(s,d_out,x_train_small,y_train)\n",
    "print(cost)\n",
    "\n"
   ]
  },
  {
   "cell_type": "code",
   "execution_count": 30,
   "id": "8b1d8eab",
   "metadata": {},
   "outputs": [
    {
     "name": "stdout",
     "output_type": "stream",
     "text": [
      "[0 0 0 0 0 0 0 0 0 0] [3.69297817]\n",
      "[0.39037813] [-1  1 -1 -1  1 -1 -1 -1 -1  1]\n"
     ]
    },
    {
     "data": {
      "image/png": "[encoded data removed]",
      "text/plain": [
       "<Figure size 432x288 with 1 Axes>"
      ]
     },
     "metadata": {
      "needs_background": "light"
     },
     "output_type": "display_data"
    }
   ],
   "source": [
    "#*********** brute force finding the neural network with the lowest cost function **************\n",
    "# all the possible \"neural nets\"\n",
    "bits = (np.array(list(it.product(range(2), repeat = Nparameters )),dtype=np.int8))\n",
    "a = (2*(np.array(list(it.product(range(2), repeat = Nparameters )),dtype=np.int8)) - 1)\n",
    "#print(bits)\n",
    "\n",
    "loss = costfunction(np.reshape(a[0],(1,-1)),d_out,x_train_small,y_train)\n",
    "Weights = a[0]\n",
    "print(bits[0],loss)\n",
    "C = []\n",
    "C.append(loss)\n",
    "\n",
    "for i in range(1,a.shape[0]):\n",
    "    #out = NN(a[i],Nhid,d_out,x) \n",
    "    #out = NN(a[i],Nhid,d_out,x)\n",
    "    loss_new = costfunction( np.reshape(a[i],(1,-1)),d_out,x_train_small,y_train) \n",
    "    C.append(loss_new)\n",
    "    #print(loss_new)\n",
    "    #print(loss_new)\n",
    "    if loss_new<loss:\n",
    "        #print(loss,loss_new)  \n",
    "        loss = loss_new\n",
    "        Weights = a[i]\n",
    "\n",
    "C = np.array(C)        \n",
    "        \n",
    "\n",
    "print(loss,Weights)\n",
    "plt.plot(C)\n",
    "plt.xlabel(\"configuration index\")\n",
    "plt.ylabel(\"Cost function\")\n",
    "\n",
    "\n",
    "np.savetxt(\"Cop_\"+str(lx)+\"x\"+str(lx)+\".txt\",C)\n"
   ]
  },
  {
   "cell_type": "code",
   "execution_count": 31,
   "id": "e82495c3",
   "metadata": {},
   "outputs": [
    {
     "name": "stdout",
     "output_type": "stream",
     "text": [
      "[0.71792636] [0.72016649] (2115,)\n",
      "[0.61241546] [0.60514692] (2115,)\n"
     ]
    }
   ],
   "source": [
    "# accuracy of classification \n",
    "\n",
    "def class_accuracy(samples,d_out,x,y):\n",
    "    samplesi = np.copy(samples)\n",
    "    samplesi = 2*samplesi-1\n",
    "    d_in = x.shape[1]\n",
    "    Ntrain = x.shape[0]\n",
    "    \n",
    "    c = d_in*d_out\n",
    "    Ns = samples.shape[0]\n",
    "    W1 = np.reshape(samplesi[:,0:c],[Ns,d_in,d_out])\n",
    "    b_1 = np.reshape(samplesi[:,c:c+d_out],[Ns,d_out])\n",
    "\n",
    "    # binary \n",
    "\n",
    "    p = sig(np.einsum('ij,kjl ->ikl',x,W1) + b_1)\n",
    "\n",
    "    out = np.where(p >0.5, 1, 0)\n",
    "\n",
    "    a = np.abs(np.transpose(p,[1,2,0])-y)\n",
    "    \n",
    "    acc = np.einsum('wki ->wk',(1 - a))/Ntrain \n",
    "    acc = np.reshape(acc,(-1))\n",
    "\n",
    "    return  acc \n",
    "\n",
    "# testing the accuracy of a few solutions  and a random neural network\n",
    "\n",
    "sols = Weights\n",
    "\n",
    "random_nn = np.random.binomial(1,0.5,(1,Nparameters))\n",
    "\n",
    "acc_test = class_accuracy(np.reshape(sols,(1,-1)),d_out,x_test_small,y_test)\n",
    "acc_train = class_accuracy(np.reshape(sols,(1,-1)),d_out,x_train_small,y_train)\n",
    "print(acc_test,acc_train,y_test.shape)\n",
    "\n",
    "acc_test = class_accuracy(random_nn,d_out,x_test_small,y_test)\n",
    "acc_train = class_accuracy(random_nn,d_out,x_train_small,y_train)\n",
    "print(acc_test,acc_train,y_test.shape)\n"
   ]
  },
  {
   "cell_type": "code",
   "execution_count": 32,
   "id": "e1462b89",
   "metadata": {},
   "outputs": [
    {
     "data": {
      "image/png": "[encoded data removed]",
      "text/plain": [
       "<Figure size 432x288 with 1 Axes>"
      ]
     },
     "metadata": {
      "needs_background": "light"
     },
     "output_type": "display_data"
    }
   ],
   "source": [
    " # Basis\n",
    "I = np.array([1, 1]);\n",
    "Z = np.array([1,-1]); \n",
    "M = np.zeros((2,2))\n",
    "\n",
    "M[0,:] = I\n",
    "M[1,:] = Z \n",
    "\n",
    "N = Nparameters\n",
    "psum = np.zeros((Nparameters*[2]))\n",
    "d = 2\n",
    "Ct = np.reshape(np.reshape(C,(-1)),d**N) \n",
    "\n",
    "for k in range(N):\n",
    "    \n",
    "    Ct = np.tensordot(M,Ct.reshape(d**k, d, d**(N - 1 - k)),axes=[[1], [1]]).transpose(1, 0, 2).reshape(d**N)\n",
    "\n",
    "\n",
    "\n",
    "Ct = Ct/2**N\n",
    "\n",
    "weight = np.zeros(Nparameters+1)\n",
    "\n",
    "for k in range(2**N):\n",
    "    \n",
    "    indexw = np.sum(bits[k])\n",
    "    weight[indexw] = weight[indexw] + Ct[k]**2\n",
    "\n",
    "\n",
    "plt.yscale('log')\n",
    "plt.plot(weight,'bo',ls='-')\n",
    "plt.ylim((10**(-20),5))\n",
    "\n",
    "np.savetxt(\"Ct_\"+str(lx)+\"x\"+str(lx)+\".txt\",weight)\n"
   ]
  },
  {
   "cell_type": "code",
   "execution_count": null,
   "id": "2802789e",
   "metadata": {},
   "outputs": [],
   "source": []
  }
 ],
 "metadata": {
  "kernelspec": {
   "display_name": "Python 3",
   "language": "python",
   "name": "python3"
  },
  "language_info": {
   "codemirror_mode": {
    "name": "ipython",
    "version": 3
   },
   "file_extension": ".py",
   "mimetype": "text/x-python",
   "name": "python",
   "nbconvert_exporter": "python",
   "pygments_lexer": "ipython3",
   "version": "3.8.2"
  }
 },
 "nbformat": 4,
 "nbformat_minor": 5
}

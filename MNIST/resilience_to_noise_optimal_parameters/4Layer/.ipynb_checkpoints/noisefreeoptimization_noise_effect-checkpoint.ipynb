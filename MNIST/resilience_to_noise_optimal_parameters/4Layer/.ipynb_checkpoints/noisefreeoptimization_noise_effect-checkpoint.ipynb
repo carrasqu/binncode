{
 "cells": [
  {
   "cell_type": "code",
   "execution_count": null,
   "id": "277bf378-c599-4d35-91f0-c59b86a9ddc7",
   "metadata": {},
   "outputs": [],
   "source": [
    "# This checks for optimized circuits without noise, what is the effect of noise applied to these solutions"
   ]
  },
  {
   "cell_type": "code",
   "execution_count": 1,
   "id": "3d650946-2736-43c9-992f-ec4a083842e1",
   "metadata": {
    "tags": []
   },
   "outputs": [],
   "source": [
    "import numpy as np\n",
    "import matplotlib.pyplot as plt\n",
    "%matplotlib inline\n",
    "\n",
    "from mpl_toolkits.mplot3d import Axes3D\n",
    "from matplotlib import gridspec\n",
    "from matplotlib.font_manager import FontProperties\n",
    "from pylab import *\n",
    "from sklearn.neighbors import KernelDensity\n",
    "\n",
    "import joypy\n",
    "import pandas as pd\n",
    "from matplotlib import cm"
   ]
  },
  {
   "cell_type": "code",
   "execution_count": 4,
   "id": "edd102da-e7f7-4431-8990-36d354708e45",
   "metadata": {
    "tags": []
   },
   "outputs": [],
   "source": [
    "rc('text', usetex=True)\n",
    "rc('font',**{'family':'sans-serif','sans-serif':['Helvetica']})\n",
    "\n",
    "rc('text', usetex=True)\n",
    "#rcParams['text.latex.preamble']=[r\"\\usepackage[helvet]{sfmath}\"]\n",
    "\n",
    "rcParams['text.latex.preamble'] = r\"\\usepackage[helvet]{sfmath}\"\n",
    "\n",
    "\n",
    "exact=np.min(np.loadtxt(\"Cop_4x4.txt\"))"
   ]
  },
  {
   "cell_type": "code",
   "execution_count": null,
   "id": "1dc3401f-4665-43ae-b766-7561ef4fd5a8",
   "metadata": {},
   "outputs": [],
   "source": [
    "Nr = 5 # number of runs/folders\n",
    "Nr_f = 10 # number of optimizations per folder \n",
    "\n"
   ]
  }
 ],
 "metadata": {
  "kernelspec": {
   "display_name": "Python 3 (ipykernel)",
   "language": "python",
   "name": "python3"
  },
  "language_info": {
   "codemirror_mode": {
    "name": "ipython",
    "version": 3
   },
   "file_extension": ".py",
   "mimetype": "text/x-python",
   "name": "python",
   "nbconvert_exporter": "python",
   "pygments_lexer": "ipython3",
   "version": "3.10.9"
  }
 },
 "nbformat": 4,
 "nbformat_minor": 5
}
